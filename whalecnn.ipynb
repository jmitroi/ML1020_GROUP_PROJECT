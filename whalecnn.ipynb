{
 "cells": [
  {
   "cell_type": "code",
   "execution_count": 1,
   "metadata": {},
   "outputs": [
    {
     "name": "stderr",
     "output_type": "stream",
     "text": [
      "Using TensorFlow backend.\n"
     ]
    }
   ],
   "source": [
    "import numpy as np \n",
    "import pandas as pd \n",
    "import os\n",
    "import matplotlib.pyplot as plt\n",
    "import matplotlib.image as mplimg\n",
    "from matplotlib.pyplot import imshow\n",
    "\n",
    "from sklearn.preprocessing import LabelEncoder\n",
    "from sklearn.preprocessing import OneHotEncoder\n",
    "\n",
    "from keras import layers\n",
    "from keras.preprocessing import image\n",
    "from keras.applications.imagenet_utils import preprocess_input\n",
    "from keras.layers import Input, Dense, Activation, BatchNormalization, Flatten, Conv2D\n",
    "from keras.layers import AveragePooling2D, MaxPooling2D, Dropout\n",
    "from keras.models import Model\n",
    "\n",
    "import keras.backend as K\n",
    "from keras.models import Sequential\n",
    "\n",
    "import warnings\n",
    "warnings.simplefilter(\"ignore\", category=DeprecationWarning)"
   ]
  },
  {
   "cell_type": "code",
   "execution_count": 5,
   "metadata": {},
   "outputs": [
    {
     "data": {
      "text/plain": [
       "['train.zip',\n",
       " 'train',\n",
       " 'train.csv',\n",
       " 'test',\n",
       " 'test.zip',\n",
       " 'sample_submission.csv']"
      ]
     },
     "execution_count": 5,
     "metadata": {},
     "output_type": "execute_result"
    }
   ],
   "source": [
    "os.listdir(\"input/humpback-whale-identification/\")"
   ]
  },
  {
   "cell_type": "code",
   "execution_count": 6,
   "metadata": {},
   "outputs": [
    {
     "data": {
      "text/html": [
       "<div>\n",
       "<style scoped>\n",
       "    .dataframe tbody tr th:only-of-type {\n",
       "        vertical-align: middle;\n",
       "    }\n",
       "\n",
       "    .dataframe tbody tr th {\n",
       "        vertical-align: top;\n",
       "    }\n",
       "\n",
       "    .dataframe thead th {\n",
       "        text-align: right;\n",
       "    }\n",
       "</style>\n",
       "<table border=\"1\" class=\"dataframe\">\n",
       "  <thead>\n",
       "    <tr style=\"text-align: right;\">\n",
       "      <th></th>\n",
       "      <th>Image</th>\n",
       "      <th>Id</th>\n",
       "    </tr>\n",
       "  </thead>\n",
       "  <tbody>\n",
       "    <tr>\n",
       "      <th>0</th>\n",
       "      <td>0000e88ab.jpg</td>\n",
       "      <td>w_f48451c</td>\n",
       "    </tr>\n",
       "    <tr>\n",
       "      <th>1</th>\n",
       "      <td>0001f9222.jpg</td>\n",
       "      <td>w_c3d896a</td>\n",
       "    </tr>\n",
       "    <tr>\n",
       "      <th>2</th>\n",
       "      <td>00029d126.jpg</td>\n",
       "      <td>w_20df2c5</td>\n",
       "    </tr>\n",
       "    <tr>\n",
       "      <th>3</th>\n",
       "      <td>00050a15a.jpg</td>\n",
       "      <td>new_whale</td>\n",
       "    </tr>\n",
       "    <tr>\n",
       "      <th>4</th>\n",
       "      <td>0005c1ef8.jpg</td>\n",
       "      <td>new_whale</td>\n",
       "    </tr>\n",
       "  </tbody>\n",
       "</table>\n",
       "</div>"
      ],
      "text/plain": [
       "           Image         Id\n",
       "0  0000e88ab.jpg  w_f48451c\n",
       "1  0001f9222.jpg  w_c3d896a\n",
       "2  00029d126.jpg  w_20df2c5\n",
       "3  00050a15a.jpg  new_whale\n",
       "4  0005c1ef8.jpg  new_whale"
      ]
     },
     "execution_count": 6,
     "metadata": {},
     "output_type": "execute_result"
    }
   ],
   "source": [
    "train_df = pd.read_csv(\"input/humpback-whale-identification/train.csv\")\n",
    "train_df.head()"
   ]
  },
  {
   "cell_type": "code",
   "execution_count": 7,
   "metadata": {},
   "outputs": [],
   "source": [
    "def prepareImages(data, m, dataset):\n",
    "    print(\"Preparing images\")\n",
    "    X_train = np.zeros((m, 100, 100, 3))\n",
    "    count = 0\n",
    "    \n",
    "    for fig in data['Image']:\n",
    "        #load images into images of size 100x100x3\n",
    "        img = image.load_img(\"input/humpback-whale-identification/\"+dataset+\"/\"+fig, target_size=(100, 100, 3))\n",
    "        x = image.img_to_array(img)\n",
    "        x = preprocess_input(x)\n",
    "\n",
    "        X_train[count] = x\n",
    "        if (count%500 == 0):\n",
    "            print(\"Processing image: \", count+1, \", \", fig)\n",
    "        count += 1\n",
    "    \n",
    "    return X_train"
   ]
  },
  {
   "cell_type": "code",
   "execution_count": 8,
   "metadata": {},
   "outputs": [],
   "source": [
    "def prepare_labels(y):\n",
    "    values = np.array(y)\n",
    "    label_encoder = LabelEncoder()\n",
    "    integer_encoded = label_encoder.fit_transform(values)\n",
    "    # print(integer_encoded)\n",
    "\n",
    "    onehot_encoder = OneHotEncoder(sparse=False)\n",
    "    integer_encoded = integer_encoded.reshape(len(integer_encoded), 1)\n",
    "    onehot_encoded = onehot_encoder.fit_transform(integer_encoded)\n",
    "    # print(onehot_encoded)\n",
    "\n",
    "    y = onehot_encoded\n",
    "    # print(y.shape)\n",
    "    return y, label_encoder"
   ]
  },
  {
   "cell_type": "code",
   "execution_count": null,
   "metadata": {},
   "outputs": [],
   "source": [
    "import os\n",
    "import numpy as np\n",
    "from keras.models import Sequential\n",
    "from keras.layers import Activation, Dropout, Flatten, Dense\n",
    "from keras.preprocessing.image import ImageDataGenerator\n",
    "from keras.layers import Conv2D, MaxPooling2D, ZeroPadding2D\n",
    "from keras import optimizers\n",
    "import scipy\n",
    "import pylab as pl\n",
    "import matplotlib.cm as cm\n",
    "%matplotlib inline\n",
    "\n",
    "input_shape = (100, 100, 3)\n",
    "img_width = 100\n",
    "img_height = 100\n",
    "\n",
    "nb_train_samples = 2000\n",
    "nb_validation_samples = 1000\n",
    "batch_size = 16\n",
    "epochs = 25\n",
    "\n",
    "train_data_dir = 'input/humpback-whale-identification/train'\n",
    "validation_data_dir = 'input/humpback-whale-identification/test'\n",
    "\n",
    "# Creating our data generator for our test data\n",
    "validation_datagen = ImageDataGenerator(\n",
    "    # used to rescale the pixel values from [0, 255] to [0, 1] interval\n",
    "    rescale = 1./255)\n",
    "\n",
    "# Creating our data generator for our training data\n",
    "train_datagen = ImageDataGenerator(\n",
    "      rescale = 1./255,              # normalize pixel values to [0,1]\n",
    "      rotation_range = 30,           # randomly applies rotations\n",
    "      width_shift_range = 0.3,       # randomly applies width shifting\n",
    "      height_shift_range = 0.3,      # randomly applies height shifting\n",
    "      horizontal_flip = True,        # randonly flips the image\n",
    "      fill_mode = 'nearest')         # uses the fill mode nearest to fill gaps created by the above\n",
    "\n",
    "# Specify criteria about our training data, such as the directory, image size, batch size and type \n",
    "# automagically retrieve images and their classes for train and validation sets\n",
    "train_generator = train_datagen.flow_from_directory(\n",
    "        train_data_dir,\n",
    "        target_size = (img_width, img_height),\n",
    "        batch_size = batch_size,\n",
    "        class_mode = 'binary',\n",
    "        shuffle = True)\n",
    "\n",
    "validation_generator = validation_datagen.flow_from_directory(\n",
    "        validation_data_dir,\n",
    "        target_size = (img_width, img_height),\n",
    "        batch_size = batch_size,\n",
    "        class_mode = 'binary',\n",
    "        shuffle = False)   "
   ]
  },
  {
   "cell_type": "code",
   "execution_count": 9,
   "metadata": {},
   "outputs": [
    {
     "name": "stdout",
     "output_type": "stream",
     "text": [
      "Preparing images\n",
      "Processing image:  1 ,  0000e88ab.jpg\n",
      "Processing image:  501 ,  04c72257b.jpg\n",
      "Processing image:  1001 ,  09cacb84d.jpg\n",
      "Processing image:  1501 ,  0ef961892.jpg\n",
      "Processing image:  2001 ,  141b56a1a.jpg\n",
      "Processing image:  2501 ,  199a417aa.jpg\n",
      "Processing image:  3001 ,  1ec170983.jpg\n",
      "Processing image:  3501 ,  23f084b93.jpg\n",
      "Processing image:  4001 ,  29163ad0b.jpg\n",
      "Processing image:  4501 ,  2e0fab120.jpg\n",
      "Processing image:  5001 ,  3347515d9.jpg\n",
      "Processing image:  5501 ,  3842d71dc.jpg\n",
      "Processing image:  6001 ,  3d7f4c7d5.jpg\n",
      "Processing image:  6501 ,  425f763ca.jpg\n",
      "Processing image:  7001 ,  4714400cd.jpg\n",
      "Processing image:  7501 ,  4c082fbdf.jpg\n",
      "Processing image:  8001 ,  50c683e23.jpg\n",
      "Processing image:  8501 ,  560d986ad.jpg\n",
      "Processing image:  9001 ,  5b68c83ed.jpg\n",
      "Processing image:  9501 ,  60410f111.jpg\n",
      "Processing image:  10001 ,  654951f81.jpg\n",
      "Processing image:  10501 ,  6a572256c.jpg\n",
      "Processing image:  11001 ,  6f96f55b6.jpg\n",
      "Processing image:  11501 ,  74da2b511.jpg\n",
      "Processing image:  12001 ,  7989d9a27.jpg\n",
      "Processing image:  12501 ,  7e5aa2d8a.jpg\n",
      "Processing image:  13001 ,  832382cfb.jpg\n",
      "Processing image:  13501 ,  87f6c0a15.jpg\n",
      "Processing image:  14001 ,  8cfc22e5d.jpg\n",
      "Processing image:  14501 ,  91dcfedcd.jpg\n",
      "Processing image:  15001 ,  97079398e.jpg\n",
      "Processing image:  15501 ,  9c2ad64a9.jpg\n",
      "Processing image:  16001 ,  a11956dff.jpg\n",
      "Processing image:  16501 ,  a5f9ffe86.jpg\n",
      "Processing image:  17001 ,  aaf1a967b.jpg\n",
      "Processing image:  17501 ,  af9a1ffc6.jpg\n",
      "Processing image:  18001 ,  b4e02531d.jpg\n",
      "Processing image:  18501 ,  ba2355ca6.jpg\n",
      "Processing image:  19001 ,  bf60e7fed.jpg\n",
      "Processing image:  19501 ,  c49f39ce3.jpg\n",
      "Processing image:  20001 ,  c960111d0.jpg\n",
      "Processing image:  20501 ,  ce7984d8a.jpg\n",
      "Processing image:  21001 ,  d38efaec9.jpg\n",
      "Processing image:  21501 ,  d831d28ee.jpg\n",
      "Processing image:  22001 ,  dd3ca2387.jpg\n",
      "Processing image:  22501 ,  e288d66cf.jpg\n",
      "Processing image:  23001 ,  e7cc793db.jpg\n",
      "Processing image:  23501 ,  ec8c7229d.jpg\n",
      "Processing image:  24001 ,  f1b850552.jpg\n",
      "Processing image:  24501 ,  f6af8a4b8.jpg\n",
      "Processing image:  25001 ,  fc09f2302.jpg\n"
     ]
    }
   ],
   "source": [
    "X = prepareImages(train_df, train_df.shape[0], \"train\")\n",
    "X /= 255"
   ]
  },
  {
   "cell_type": "code",
   "execution_count": 10,
   "metadata": {},
   "outputs": [],
   "source": [
    "y, label_encoder = prepare_labels(train_df['Id'])"
   ]
  },
  {
   "cell_type": "code",
   "execution_count": 11,
   "metadata": {},
   "outputs": [
    {
     "data": {
      "text/plain": [
       "(25361, 5005)"
      ]
     },
     "execution_count": 11,
     "metadata": {},
     "output_type": "execute_result"
    }
   ],
   "source": [
    "y.shape"
   ]
  },
  {
   "cell_type": "code",
   "execution_count": 12,
   "metadata": {},
   "outputs": [
    {
     "name": "stdout",
     "output_type": "stream",
     "text": [
      "_________________________________________________________________\n",
      "Layer (type)                 Output Shape              Param #   \n",
      "=================================================================\n",
      "conv0 (Conv2D)               (None, 94, 94, 32)        4736      \n",
      "_________________________________________________________________\n",
      "bn0 (BatchNormalization)     (None, 94, 94, 32)        128       \n",
      "_________________________________________________________________\n",
      "activation_1 (Activation)    (None, 94, 94, 32)        0         \n",
      "_________________________________________________________________\n",
      "max_pool (MaxPooling2D)      (None, 47, 47, 32)        0         \n",
      "_________________________________________________________________\n",
      "conv1 (Conv2D)               (None, 45, 45, 64)        18496     \n",
      "_________________________________________________________________\n",
      "activation_2 (Activation)    (None, 45, 45, 64)        0         \n",
      "_________________________________________________________________\n",
      "avg_pool (AveragePooling2D)  (None, 15, 15, 64)        0         \n",
      "_________________________________________________________________\n",
      "flatten_1 (Flatten)          (None, 14400)             0         \n",
      "_________________________________________________________________\n",
      "rl (Dense)                   (None, 500)               7200500   \n",
      "_________________________________________________________________\n",
      "dropout_1 (Dropout)          (None, 500)               0         \n",
      "_________________________________________________________________\n",
      "sm (Dense)                   (None, 5005)              2507505   \n",
      "=================================================================\n",
      "Total params: 9,731,365\n",
      "Trainable params: 9,731,301\n",
      "Non-trainable params: 64\n",
      "_________________________________________________________________\n"
     ]
    }
   ],
   "source": [
    "model = Sequential()\n",
    "\n",
    "model.add(Conv2D(32, (7, 7), strides = (1, 1), name = 'conv0', input_shape = (100, 100, 3)))\n",
    "\n",
    "model.add(BatchNormalization(axis = 3, name = 'bn0'))\n",
    "model.add(Activation('relu'))\n",
    "\n",
    "model.add(MaxPooling2D((2, 2), name='max_pool'))\n",
    "model.add(Conv2D(64, (3, 3), strides = (1,1), name=\"conv1\"))\n",
    "model.add(Activation('relu'))\n",
    "model.add(AveragePooling2D((3, 3), name='avg_pool'))\n",
    "\n",
    "model.add(Flatten())\n",
    "model.add(Dense(500, activation=\"relu\", name='rl'))\n",
    "model.add(Dropout(0.8))\n",
    "model.add(Dense(y.shape[1], activation='softmax', name='sm'))\n",
    "\n",
    "model.compile(loss='categorical_crossentropy', optimizer=\"adam\", metrics=['accuracy'])\n",
    "model.summary()"
   ]
  },
  {
   "cell_type": "code",
   "execution_count": 13,
   "metadata": {},
   "outputs": [
    {
     "name": "stdout",
     "output_type": "stream",
     "text": [
      "Epoch 1/100\n",
      "25361/25361 [==============================] - 33s 1ms/step - loss: 6.1940 - acc: 0.3795\n",
      "Epoch 2/100\n",
      "25361/25361 [==============================] - 7s 287us/step - loss: 5.9227 - acc: 0.3811\n",
      "Epoch 3/100\n",
      "25361/25361 [==============================] - 7s 286us/step - loss: 5.8258 - acc: 0.3811\n",
      "Epoch 4/100\n",
      "25361/25361 [==============================] - 7s 286us/step - loss: 5.7583 - acc: 0.3811\n",
      "Epoch 5/100\n",
      "25361/25361 [==============================] - 7s 288us/step - loss: 5.7244 - acc: 0.3811\n",
      "Epoch 6/100\n",
      "25361/25361 [==============================] - 7s 287us/step - loss: 5.6975 - acc: 0.3811\n",
      "Epoch 7/100\n",
      "25361/25361 [==============================] - 7s 286us/step - loss: 5.6849 - acc: 0.3811\n",
      "Epoch 8/100\n",
      "25361/25361 [==============================] - 7s 291us/step - loss: 5.6564 - acc: 0.3811\n",
      "Epoch 9/100\n",
      "25361/25361 [==============================] - 7s 287us/step - loss: 5.6299 - acc: 0.3811\n",
      "Epoch 10/100\n",
      "25361/25361 [==============================] - 7s 287us/step - loss: 5.6109 - acc: 0.3811\n",
      "Epoch 11/100\n",
      "25361/25361 [==============================] - 7s 287us/step - loss: 5.5788 - acc: 0.3811\n",
      "Epoch 12/100\n",
      "25361/25361 [==============================] - 7s 286us/step - loss: 5.5464 - acc: 0.3811\n",
      "Epoch 13/100\n",
      "25361/25361 [==============================] - 7s 288us/step - loss: 5.5320 - acc: 0.3811\n",
      "Epoch 14/100\n",
      "25361/25361 [==============================] - 7s 287us/step - loss: 5.4678 - acc: 0.3811\n",
      "Epoch 15/100\n",
      "25361/25361 [==============================] - 7s 286us/step - loss: 5.4249 - acc: 0.3811\n",
      "Epoch 16/100\n",
      "25361/25361 [==============================] - 7s 288us/step - loss: 5.3671 - acc: 0.3811\n",
      "Epoch 17/100\n",
      "25361/25361 [==============================] - 7s 287us/step - loss: 5.3017 - acc: 0.3811\n",
      "Epoch 18/100\n",
      "25361/25361 [==============================] - 7s 287us/step - loss: 5.2340 - acc: 0.3811\n",
      "Epoch 19/100\n",
      "25361/25361 [==============================] - 7s 291us/step - loss: 5.1514 - acc: 0.3811\n",
      "Epoch 20/100\n",
      "25361/25361 [==============================] - 7s 292us/step - loss: 5.0593 - acc: 0.3810\n",
      "Epoch 21/100\n",
      "25361/25361 [==============================] - 7s 289us/step - loss: 4.9413 - acc: 0.3812\n",
      "Epoch 22/100\n",
      "25361/25361 [==============================] - 7s 292us/step - loss: 4.8259 - acc: 0.3814\n",
      "Epoch 23/100\n",
      "25361/25361 [==============================] - 7s 294us/step - loss: 4.6923 - acc: 0.3816\n",
      "Epoch 24/100\n",
      "25361/25361 [==============================] - 7s 296us/step - loss: 4.5369 - acc: 0.3826\n",
      "Epoch 25/100\n",
      "25361/25361 [==============================] - 8s 298us/step - loss: 4.3575 - acc: 0.3831\n",
      "Epoch 26/100\n",
      "25361/25361 [==============================] - 8s 296us/step - loss: 4.1664 - acc: 0.3863\n",
      "Epoch 27/100\n",
      "25361/25361 [==============================] - 7s 291us/step - loss: 3.9630 - acc: 0.3942\n",
      "Epoch 28/100\n",
      "25361/25361 [==============================] - 7s 293us/step - loss: 3.7358 - acc: 0.4008\n",
      "Epoch 29/100\n",
      "25361/25361 [==============================] - 8s 297us/step - loss: 3.5087 - acc: 0.4120\n",
      "Epoch 30/100\n",
      "25361/25361 [==============================] - 7s 295us/step - loss: 3.2952 - acc: 0.4274\n",
      "Epoch 31/100\n",
      "25361/25361 [==============================] - 7s 295us/step - loss: 3.0865 - acc: 0.4421\n",
      "Epoch 32/100\n",
      "25361/25361 [==============================] - 8s 297us/step - loss: 2.8993 - acc: 0.4581\n",
      "Epoch 33/100\n",
      "25361/25361 [==============================] - 8s 296us/step - loss: 2.7213 - acc: 0.4805\n",
      "Epoch 34/100\n",
      "25361/25361 [==============================] - 8s 297us/step - loss: 2.5325 - acc: 0.4995\n",
      "Epoch 35/100\n",
      "25361/25361 [==============================] - 7s 289us/step - loss: 2.3852 - acc: 0.5158\n",
      "Epoch 36/100\n",
      "25361/25361 [==============================] - 7s 288us/step - loss: 2.2395 - acc: 0.5309\n",
      "Epoch 37/100\n",
      "25361/25361 [==============================] - 7s 288us/step - loss: 2.0949 - acc: 0.5540\n",
      "Epoch 38/100\n",
      "25361/25361 [==============================] - 7s 288us/step - loss: 1.9673 - acc: 0.5751\n",
      "Epoch 39/100\n",
      "25361/25361 [==============================] - 7s 287us/step - loss: 1.8618 - acc: 0.5917\n",
      "Epoch 40/100\n",
      "25361/25361 [==============================] - 7s 287us/step - loss: 1.7456 - acc: 0.6087\n",
      "Epoch 41/100\n",
      "25361/25361 [==============================] - 7s 288us/step - loss: 1.6757 - acc: 0.6202\n",
      "Epoch 42/100\n",
      "25361/25361 [==============================] - 7s 287us/step - loss: 1.6212 - acc: 0.6301\n",
      "Epoch 43/100\n",
      "25361/25361 [==============================] - 7s 288us/step - loss: 1.4973 - acc: 0.6559\n",
      "Epoch 44/100\n",
      "25361/25361 [==============================] - 7s 288us/step - loss: 1.4535 - acc: 0.6593\n",
      "Epoch 45/100\n",
      "25361/25361 [==============================] - 7s 288us/step - loss: 1.3788 - acc: 0.6751\n",
      "Epoch 46/100\n",
      "25361/25361 [==============================] - 7s 288us/step - loss: 1.2921 - acc: 0.6898\n",
      "Epoch 47/100\n",
      "25361/25361 [==============================] - 7s 288us/step - loss: 1.2381 - acc: 0.7030\n",
      "Epoch 48/100\n",
      "25361/25361 [==============================] - 7s 288us/step - loss: 1.2062 - acc: 0.7081\n",
      "Epoch 49/100\n",
      "25361/25361 [==============================] - 7s 287us/step - loss: 1.1514 - acc: 0.7168\n",
      "Epoch 50/100\n",
      "25361/25361 [==============================] - 7s 288us/step - loss: 1.0704 - acc: 0.7354\n",
      "Epoch 51/100\n",
      "25361/25361 [==============================] - 7s 287us/step - loss: 1.0568 - acc: 0.7399\n",
      "Epoch 52/100\n",
      "25361/25361 [==============================] - 7s 288us/step - loss: 1.0207 - acc: 0.7472\n",
      "Epoch 53/100\n",
      "25361/25361 [==============================] - 7s 289us/step - loss: 0.9840 - acc: 0.7573\n",
      "Epoch 54/100\n",
      "25361/25361 [==============================] - 7s 290us/step - loss: 0.9407 - acc: 0.7622\n",
      "Epoch 55/100\n",
      "25361/25361 [==============================] - 7s 290us/step - loss: 0.9146 - acc: 0.7685\n",
      "Epoch 56/100\n",
      "25361/25361 [==============================] - 7s 288us/step - loss: 0.9073 - acc: 0.7701\n",
      "Epoch 57/100\n",
      "25361/25361 [==============================] - 7s 289us/step - loss: 0.8703 - acc: 0.7817\n",
      "Epoch 58/100\n",
      "25361/25361 [==============================] - 7s 288us/step - loss: 0.8268 - acc: 0.7890\n",
      "Epoch 59/100\n",
      "25361/25361 [==============================] - 7s 290us/step - loss: 0.8135 - acc: 0.7914\n",
      "Epoch 60/100\n",
      "25361/25361 [==============================] - 7s 293us/step - loss: 0.7969 - acc: 0.7963\n",
      "Epoch 61/100\n",
      "25361/25361 [==============================] - 8s 296us/step - loss: 0.7776 - acc: 0.8016\n",
      "Epoch 62/100\n",
      "25361/25361 [==============================] - 7s 295us/step - loss: 0.7411 - acc: 0.8081\n",
      "Epoch 63/100\n",
      "25361/25361 [==============================] - 7s 291us/step - loss: 0.7100 - acc: 0.8193\n",
      "Epoch 64/100\n",
      "25361/25361 [==============================] - 7s 288us/step - loss: 0.7140 - acc: 0.8161\n",
      "Epoch 65/100\n",
      "25361/25361 [==============================] - 7s 287us/step - loss: 0.6746 - acc: 0.8253\n",
      "Epoch 66/100\n",
      "25361/25361 [==============================] - 7s 290us/step - loss: 0.6877 - acc: 0.8209\n",
      "Epoch 67/100\n",
      "25361/25361 [==============================] - 7s 288us/step - loss: 0.6642 - acc: 0.8274\n",
      "Epoch 68/100\n",
      "25361/25361 [==============================] - 7s 288us/step - loss: 0.6732 - acc: 0.8252\n",
      "Epoch 69/100\n",
      "25361/25361 [==============================] - 7s 288us/step - loss: 0.6336 - acc: 0.8338\n",
      "Epoch 70/100\n",
      "25361/25361 [==============================] - 7s 289us/step - loss: 0.6120 - acc: 0.8400\n",
      "Epoch 71/100\n",
      "25361/25361 [==============================] - 7s 288us/step - loss: 0.6100 - acc: 0.8403\n",
      "Epoch 72/100\n",
      "25361/25361 [==============================] - 7s 287us/step - loss: 0.5958 - acc: 0.8422\n",
      "Epoch 73/100\n",
      "25361/25361 [==============================] - 7s 288us/step - loss: 0.5909 - acc: 0.8433\n",
      "Epoch 74/100\n",
      "25361/25361 [==============================] - 7s 288us/step - loss: 0.5786 - acc: 0.8489\n",
      "Epoch 75/100\n",
      "25361/25361 [==============================] - 7s 287us/step - loss: 0.5767 - acc: 0.8470\n",
      "Epoch 76/100\n",
      "25361/25361 [==============================] - 7s 288us/step - loss: 0.5646 - acc: 0.8515\n",
      "Epoch 77/100\n",
      "25361/25361 [==============================] - 7s 288us/step - loss: 0.5395 - acc: 0.8586\n",
      "Epoch 78/100\n",
      "25361/25361 [==============================] - 7s 288us/step - loss: 0.5323 - acc: 0.8586\n",
      "Epoch 79/100\n",
      "25361/25361 [==============================] - 7s 287us/step - loss: 0.5262 - acc: 0.8641\n",
      "Epoch 80/100\n",
      "25361/25361 [==============================] - 7s 288us/step - loss: 0.5154 - acc: 0.8650\n",
      "Epoch 81/100\n",
      "25361/25361 [==============================] - 7s 289us/step - loss: 0.5009 - acc: 0.8675\n",
      "Epoch 82/100\n",
      "25361/25361 [==============================] - 7s 288us/step - loss: 0.5129 - acc: 0.8654\n",
      "Epoch 83/100\n",
      "25361/25361 [==============================] - 7s 288us/step - loss: 0.4955 - acc: 0.8690\n",
      "Epoch 84/100\n",
      "25361/25361 [==============================] - 7s 288us/step - loss: 0.4717 - acc: 0.8750\n",
      "Epoch 85/100\n",
      "25361/25361 [==============================] - 7s 287us/step - loss: 0.4891 - acc: 0.8693\n",
      "Epoch 86/100\n",
      "25361/25361 [==============================] - 7s 288us/step - loss: 0.4715 - acc: 0.8761\n",
      "Epoch 87/100\n",
      "25361/25361 [==============================] - 7s 289us/step - loss: 0.4750 - acc: 0.8734\n",
      "Epoch 88/100\n",
      "25361/25361 [==============================] - 7s 288us/step - loss: 0.4591 - acc: 0.8817\n",
      "Epoch 89/100\n",
      "25361/25361 [==============================] - 7s 288us/step - loss: 0.4554 - acc: 0.8796\n",
      "Epoch 90/100\n",
      "25361/25361 [==============================] - 7s 287us/step - loss: 0.4454 - acc: 0.8826\n",
      "Epoch 91/100\n",
      "25361/25361 [==============================] - 7s 288us/step - loss: 0.4458 - acc: 0.8818\n",
      "Epoch 92/100\n",
      "25361/25361 [==============================] - 7s 287us/step - loss: 0.4356 - acc: 0.8864\n",
      "Epoch 93/100\n",
      "25361/25361 [==============================] - 7s 290us/step - loss: 0.4356 - acc: 0.8834\n",
      "Epoch 94/100\n",
      "25361/25361 [==============================] - 7s 290us/step - loss: 0.4242 - acc: 0.8871\n",
      "Epoch 95/100\n",
      "25361/25361 [==============================] - 7s 292us/step - loss: 0.4219 - acc: 0.8907\n",
      "Epoch 96/100\n",
      "25361/25361 [==============================] - 7s 289us/step - loss: 0.4194 - acc: 0.8892\n",
      "Epoch 97/100\n",
      "25361/25361 [==============================] - 7s 288us/step - loss: 0.4167 - acc: 0.8926\n",
      "Epoch 98/100\n",
      "25361/25361 [==============================] - 7s 287us/step - loss: 0.3997 - acc: 0.8940\n",
      "Epoch 99/100\n",
      "25361/25361 [==============================] - 7s 288us/step - loss: 0.3939 - acc: 0.8967\n",
      "Epoch 100/100\n",
      "25361/25361 [==============================] - 7s 288us/step - loss: 0.3859 - acc: 0.8990\n"
     ]
    }
   ],
   "source": [
    "history = model.fit(X, y, epochs=100, batch_size=100, verbose=1)"
   ]
  },
  {
   "cell_type": "code",
   "execution_count": 14,
   "metadata": {},
   "outputs": [
    {
     "data": {
      "text/plain": [
       "0"
      ]
     },
     "execution_count": 14,
     "metadata": {},
     "output_type": "execute_result"
    }
   ],
   "source": [
    "import gc\n",
    "gc.collect()"
   ]
  },
  {
   "cell_type": "code",
   "execution_count": 15,
   "metadata": {},
   "outputs": [
    {
     "data": {
      "image/png": "[encoded data removed]",
      "text/plain": [
       "<Figure size 432x288 with 1 Axes>"
      ]
     },
     "metadata": {},
     "output_type": "display_data"
    }
   ],
   "source": [
    "plt.plot(history.history['acc'])\n",
    "plt.title('Model accuracy')\n",
    "plt.ylabel('Accuracy')\n",
    "plt.xlabel('Epoch')\n",
    "plt.show()"
   ]
  },
  {
   "cell_type": "code",
   "execution_count": 16,
   "metadata": {},
   "outputs": [
    {
     "name": "stdout",
     "output_type": "stream",
     "text": [
      "7960\n"
     ]
    }
   ],
   "source": [
    "test = os.listdir(\"input/humpback-whale-identification/test/\")\n",
    "print(len(test))"
   ]
  },
  {
   "cell_type": "code",
   "execution_count": 17,
   "metadata": {},
   "outputs": [],
   "source": [
    "col = ['Image']\n",
    "test_df = pd.DataFrame(test, columns=col)\n",
    "test_df['Id'] = ''"
   ]
  },
  {
   "cell_type": "code",
   "execution_count": 18,
   "metadata": {},
   "outputs": [
    {
     "name": "stdout",
     "output_type": "stream",
     "text": [
      "Preparing images\n",
      "Processing image:  1 ,  268acde04.jpg\n",
      "Processing image:  501 ,  6d5df87ce.jpg\n",
      "Processing image:  1001 ,  9082453bf.jpg\n",
      "Processing image:  1501 ,  b5efaae83.jpg\n",
      "Processing image:  2001 ,  41624877d.jpg\n",
      "Processing image:  2501 ,  b0c1fcc72.jpg\n",
      "Processing image:  3001 ,  de48e639c.jpg\n",
      "Processing image:  3501 ,  67c9251c1.jpg\n",
      "Processing image:  4001 ,  dddf9380e.jpg\n",
      "Processing image:  4501 ,  bc6771f0a.jpg\n",
      "Processing image:  5001 ,  201bca34c.jpg\n",
      "Processing image:  5501 ,  534ca76dc.jpg\n",
      "Processing image:  6001 ,  46f679d2c.jpg\n",
      "Processing image:  6501 ,  2637f5914.jpg\n",
      "Processing image:  7001 ,  69e66d121.jpg\n",
      "Processing image:  7501 ,  cf8af3677.jpg\n"
     ]
    }
   ],
   "source": [
    "Y = prepareImages(test_df, test_df.shape[0], \"test\")\n",
    "Y /= 255"
   ]
  },
  {
   "cell_type": "code",
   "execution_count": 19,
   "metadata": {},
   "outputs": [
    {
     "name": "stdout",
     "output_type": "stream",
     "text": [
      "7960/7960 [==============================] - 2s 201us/step\n"
     ]
    }
   ],
   "source": [
    "predictions = model.predict(np.array(Y), verbose=1)"
   ]
  },
  {
   "cell_type": "code",
   "execution_count": 20,
   "metadata": {},
   "outputs": [],
   "source": [
    "for i, pred in enumerate(predictions):\n",
    "    test_df.loc[i, 'Id'] = ' '.join(label_encoder.inverse_transform(pred.argsort()[-5:][::-1]))"
   ]
  },
  {
   "cell_type": "code",
   "execution_count": 21,
   "metadata": {},
   "outputs": [],
   "source": [
    "test_df.head(10)\n",
    "test_df.to_csv('submission.csv', index=False)"
   ]
  },
  {
   "cell_type": "code",
   "execution_count": 22,
   "metadata": {},
   "outputs": [],
   "source": [
    "model.save(\"./whalecnn1.h5\")"
   ]
  },
  {
   "cell_type": "code",
   "execution_count": null,
   "metadata": {},
   "outputs": [],
   "source": []
  }
 ],
 "metadata": {
  "kernelspec": {
   "display_name": "Python 3",
   "language": "python",
   "name": "python3"
  },
  "language_info": {
   "codemirror_mode": {
    "name": "ipython",
    "version": 3
   },
   "file_extension": ".py",
   "mimetype": "text/x-python",
   "name": "python",
   "nbconvert_exporter": "python",
   "pygments_lexer": "ipython3",
   "version": "3.6.3"
  }
 },
 "nbformat": 4,
 "nbformat_minor": 2
}
